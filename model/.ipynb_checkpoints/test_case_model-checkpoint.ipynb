{
 "cells": [
  {
   "cell_type": "code",
   "execution_count": 7,
   "id": "ee6c4a1f-524b-4cb1-815b-766f0dba9867",
   "metadata": {},
   "outputs": [
    {
     "name": "stdout",
     "output_type": "stream",
     "text": [
      "Feature matrix shape: (404, 102)\n",
      "Classification labels shape: (404,)\n",
      "Regression labels shape: (404,)\n"
     ]
    }
   ],
   "source": [
    "import pandas as pd\n",
    "import numpy as np\n",
    "from sklearn.feature_extraction.text import TfidfVectorizer\n",
    "from sklearn.preprocessing import MinMaxScaler\n",
    "from sklearn.linear_model import LogisticRegression\n",
    "from sklearn.ensemble import RandomForestRegressor\n",
    "from sklearn.model_selection import train_test_split\n",
    "from sklearn.metrics import (\n",
    "    accuracy_score, classification_report,\n",
    "    mean_absolute_error, r2_score\n",
    ")\n",
    "from sklearn.metrics.pairwise import cosine_similarity\n",
    "from imblearn.over_sampling import SMOTE\n",
    "\n",
    "# === Load dataset ===\n",
    "df = pd.read_csv(\"parsed_test_cases_augmented.csv\")\n",
    "\n",
    "# === Drop missing or invalid values ===\n",
    "df.dropna(subset=[\"step_keywords\", \"num_steps\", \"duration\", \"result\"], inplace=True)\n",
    "\n",
    "# === Encode binary result ===\n",
    "df[\"result_encoded\"] = df[\"result\"].map({\"PASS\": 1, \"FAIL\": 0})\n",
    "\n",
    "# === TF-IDF vectorize step_keywords ===\n",
    "tfidf = TfidfVectorizer()\n",
    "X_keywords = tfidf.fit_transform(df[\"step_keywords\"])\n",
    "\n",
    "# === Normalize num_steps ===\n",
    "scaler = MinMaxScaler()\n",
    "X_steps = scaler.fit_transform(df[[\"num_steps\"]])\n",
    "\n",
    "# === Combine features into a single matrix ===\n",
    "X_features = np.hstack([X_keywords.toarray(), X_steps])\n",
    "\n",
    "# === Target variables ===\n",
    "y_class = df[\"result_encoded\"]        # for classification (PASS/FAIL)\n",
    "y_reg = df[\"duration\"]                # for regression (duration prediction)\n",
    "\n",
    "# === Print dataset shape ===\n",
    "print(\"Feature matrix shape:\", X_features.shape)\n",
    "print(\"Classification labels shape:\", y_class.shape)\n",
    "print(\"Regression labels shape:\", y_reg.shape)"
   ]
  },
  {
   "cell_type": "code",
   "execution_count": 8,
   "id": "beec53f5-b357-481b-a902-ef3707489474",
   "metadata": {},
   "outputs": [
    {
     "name": "stdout",
     "output_type": "stream",
     "text": [
      "\n",
      "After SMOTE resampling: [319 319]\n",
      "\n",
      "=== Classification Report ===\n",
      "Accuracy: 0.640625\n",
      "              precision    recall  f1-score   support\n",
      "\n",
      "           0       0.62      0.68      0.65        62\n",
      "           1       0.67      0.61      0.63        66\n",
      "\n",
      "    accuracy                           0.64       128\n",
      "   macro avg       0.64      0.64      0.64       128\n",
      "weighted avg       0.64      0.64      0.64       128\n",
      "\n",
      "\n",
      "=== Regression Report ===\n",
      "MAE: 1.2995135802469155\n",
      "R² Score: 0.9484427623425737\n"
     ]
    }
   ],
   "source": [
    "# === Apply SMOTE to handle class imbalance ===\n",
    "smote = SMOTE(random_state=42)\n",
    "X_resampled, y_resampled = smote.fit_resample(X_features, y_class)\n",
    "\n",
    "print(\"\\nAfter SMOTE resampling:\", np.bincount(y_resampled))\n",
    "\n",
    "# === Classification model ===\n",
    "X_train_cls, X_test_cls, y_train_cls, y_test_cls = train_test_split(\n",
    "    X_resampled, y_resampled, test_size=0.2, random_state=42\n",
    ")\n",
    "\n",
    "clf = LogisticRegression(class_weight='balanced', max_iter=1000)\n",
    "clf.fit(X_train_cls, y_train_cls)\n",
    "y_pred_cls = clf.predict(X_test_cls)\n",
    "\n",
    "print(\"\\n=== Classification Report ===\")\n",
    "print(\"Accuracy:\", accuracy_score(y_test_cls, y_pred_cls))\n",
    "print(classification_report(y_test_cls, y_pred_cls))\n",
    "\n",
    "# === Regression model ===\n",
    "X_train_reg, X_test_reg, y_train_reg, y_test_reg = train_test_split(\n",
    "    X_features, y_reg, test_size=0.2, random_state=42\n",
    ")\n",
    "\n",
    "reg = RandomForestRegressor(n_estimators=100, random_state=42)\n",
    "reg.fit(X_train_reg, y_train_reg)\n",
    "y_pred_reg = reg.predict(X_test_reg)\n",
    "\n",
    "print(\"\\n=== Regression Report ===\")\n",
    "print(\"MAE:\", mean_absolute_error(y_test_reg, y_pred_reg))\n",
    "print(\"R² Score:\", r2_score(y_test_reg, y_pred_reg))\n"
   ]
  },
  {
   "cell_type": "code",
   "execution_count": 10,
   "id": "7b031659-6349-4bb8-86ea-4b1e5dc3231e",
   "metadata": {},
   "outputs": [
    {
     "name": "stdout",
     "output_type": "stream",
     "text": [
      "\n",
      "🧪 Test Case ID: TC003\n",
      "⏱ Predicted Duration: 35.75 seconds\n",
      "✅ Predicted PASS Probability: 49.9%\n",
      "🔍 Most Similar Test Cases:\n",
      "   1. TC237\n",
      "   2. TC086\n",
      "   3. TC215\n"
     ]
    }
   ],
   "source": [
    "# === Prediction helper ===\n",
    "def predict_test_case(test_id):\n",
    "    \"\"\"\n",
    "    For a given test_id in the dataset, return its:\n",
    "    - 3 most similar test cases\n",
    "    - predicted duration (regressor)\n",
    "    - predicted pass probability (classifier)\n",
    "    \"\"\"\n",
    "    row = df[df[\"test_id\"] == test_id]\n",
    "    if row.empty:\n",
    "        print(f\"Test case '{test_id}' not found.\")\n",
    "        return\n",
    "\n",
    "    row_index = row.index[0]\n",
    "    input_vec = X_features[row_index].reshape(1, -1)\n",
    "\n",
    "    similarities = cosine_similarity(input_vec, X_features)[0]\n",
    "    top_indices = similarities.argsort()[-4:-1][::-1]\n",
    "    similar_ids = df.iloc[top_indices][\"test_id\"].tolist()\n",
    "\n",
    "    pred_duration = reg.predict(input_vec)[0]\n",
    "    pred_pass_prob = clf.predict_proba(input_vec)[0][1]\n",
    "\n",
    "    print(f\"\\n🧪 Test Case ID: {test_id}\")\n",
    "    print(f\"⏱ Predicted Duration: {pred_duration:.2f} seconds\")\n",
    "    print(f\"✅ Predicted PASS Probability: {pred_pass_prob*100:.1f}%\")\n",
    "    print(\"🔍 Most Similar Test Cases:\")\n",
    "    for i, sid in enumerate(similar_ids, 1):\n",
    "        print(f\"   {i}. {sid}\")\n",
    "\n",
    "# === Example usage ===\n",
    "if __name__ == \"__main__\":\n",
    "    predict_test_case(\"TC003\")"
   ]
  },
  {
   "cell_type": "code",
   "execution_count": null,
   "id": "36b75cba-7885-4b0c-ab56-1b52822e9108",
   "metadata": {},
   "outputs": [],
   "source": []
  },
  {
   "cell_type": "code",
   "execution_count": null,
   "id": "6ea71c96-06cd-4ea0-a043-7831c03cff31",
   "metadata": {},
   "outputs": [],
   "source": []
  }
 ],
 "metadata": {
  "kernelspec": {
   "display_name": "Python 3 (ipykernel)",
   "language": "python",
   "name": "python3"
  },
  "language_info": {
   "codemirror_mode": {
    "name": "ipython",
    "version": 3
   },
   "file_extension": ".py",
   "mimetype": "text/x-python",
   "name": "python",
   "nbconvert_exporter": "python",
   "pygments_lexer": "ipython3",
   "version": "3.11.3"
  }
 },
 "nbformat": 4,
 "nbformat_minor": 5
}
