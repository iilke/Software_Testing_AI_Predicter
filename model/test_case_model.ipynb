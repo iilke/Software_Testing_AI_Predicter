{
 "cells": [
  {
   "cell_type": "code",
   "execution_count": 1,
   "id": "ee6c4a1f-524b-4cb1-815b-766f0dba9867",
   "metadata": {},
   "outputs": [
    {
     "name": "stdout",
     "output_type": "stream",
     "text": [
      "Feature matrix shape: (16, 37)\n",
      "Classification labels shape: (16,)\n",
      "Regression labels shape: (16,)\n"
     ]
    }
   ],
   "source": [
    "# test_case_model.py\n",
    "\n",
    "import pandas as pd\n",
    "import numpy as np\n",
    "from sklearn.feature_extraction.text import TfidfVectorizer\n",
    "from sklearn.preprocessing import MinMaxScaler\n",
    "\n",
    "# === Load dataset ===\n",
    "df = pd.read_csv(\"parsed_test_cases_augmented.csv\")\n",
    "\n",
    "# === Drop missing or invalid values ===\n",
    "df.dropna(subset=[\"step_keywords\", \"num_steps\", \"duration\", \"result\"], inplace=True)\n",
    "\n",
    "# === Encode binary result ===\n",
    "df[\"result_encoded\"] = df[\"result\"].map({\"PASS\": 1, \"FAIL\": 0})\n",
    "\n",
    "# === TF-IDF vectorize step_keywords ===\n",
    "tfidf = TfidfVectorizer()\n",
    "X_keywords = tfidf.fit_transform(df[\"step_keywords\"])\n",
    "\n",
    "# === Normalize num_steps ===\n",
    "scaler = MinMaxScaler()\n",
    "X_steps = scaler.fit_transform(df[[\"num_steps\"]])\n",
    "\n",
    "# === Combine features into a single matrix ===\n",
    "X_features = np.hstack([X_keywords.toarray(), X_steps])\n",
    "\n",
    "# === Target variables ===\n",
    "y_class = df[\"result_encoded\"]        # for classification (PASS/FAIL)\n",
    "y_reg = df[\"duration\"]                # for regression (duration prediction)\n",
    "\n",
    "# === Print dataset shape ===\n",
    "print(\"Feature matrix shape:\", X_features.shape)\n",
    "print(\"Classification labels shape:\", y_class.shape)\n",
    "print(\"Regression labels shape:\", y_reg.shape)\n"
   ]
  },
  {
   "cell_type": "code",
   "execution_count": 2,
   "id": "beec53f5-b357-481b-a902-ef3707489474",
   "metadata": {},
   "outputs": [
    {
     "name": "stdout",
     "output_type": "stream",
     "text": [
      "\n",
      "=== Classification Report ===\n",
      "Accuracy: 1.0\n",
      "              precision    recall  f1-score   support\n",
      "\n",
      "           0       1.00      1.00      1.00         1\n",
      "           1       1.00      1.00      1.00         3\n",
      "\n",
      "    accuracy                           1.00         4\n",
      "   macro avg       1.00      1.00      1.00         4\n",
      "weighted avg       1.00      1.00      1.00         4\n",
      "\n",
      "\n",
      "=== Regression Report ===\n",
      "MAE: 0.9979188651738937\n",
      "R² Score: 0.3354729296542178\n"
     ]
    }
   ],
   "source": [
    "from sklearn.ensemble import RandomForestClassifier, RandomForestRegressor\n",
    "from sklearn.model_selection import train_test_split\n",
    "from sklearn.metrics import accuracy_score, classification_report, mean_absolute_error, r2_score\n",
    "\n",
    "# === Split data into training and test sets ===\n",
    "X_train_cls, X_test_cls, y_train_cls, y_test_cls = train_test_split(X_features, y_class, test_size=0.2, random_state=42)\n",
    "X_train_reg, X_test_reg, y_train_reg, y_test_reg = train_test_split(X_features, y_reg, test_size=0.2, random_state=42)\n",
    "\n",
    "# === Classification model ===\n",
    "clf = RandomForestClassifier(n_estimators=100, random_state=42)\n",
    "clf.fit(X_train_cls, y_train_cls)\n",
    "y_pred_cls = clf.predict(X_test_cls)\n",
    "\n",
    "print(\"\\n=== Classification Report ===\")\n",
    "print(\"Accuracy:\", accuracy_score(y_test_cls, y_pred_cls))\n",
    "print(classification_report(y_test_cls, y_pred_cls))\n",
    "\n",
    "# === Regression model ===\n",
    "reg = RandomForestRegressor(n_estimators=100, random_state=42)\n",
    "reg.fit(X_train_reg, y_train_reg)\n",
    "y_pred_reg = reg.predict(X_test_reg)\n",
    "\n",
    "print(\"\\n=== Regression Report ===\")\n",
    "print(\"MAE:\", mean_absolute_error(y_test_reg, y_pred_reg))\n",
    "print(\"R² Score:\", r2_score(y_test_reg, y_pred_reg))\n"
   ]
  },
  {
   "cell_type": "code",
   "execution_count": 4,
   "id": "7b031659-6349-4bb8-86ea-4b1e5dc3231e",
   "metadata": {},
   "outputs": [
    {
     "name": "stdout",
     "output_type": "stream",
     "text": [
      "\n",
      "🧪 Test Case ID: TestCase001_LBConfiguration_aug\n",
      "⏱ Predicted Duration: 19.18 seconds\n",
      "✅ Predicted PASS Probability: 100.0%\n",
      "🔍 Most Similar Test Cases:\n",
      "   1. TestCase002_IBITBaslatma_aug\n",
      "   2. TestCase002_IBITBaslatma\n",
      "   3. TestCase001_LBConfiguration\n"
     ]
    }
   ],
   "source": [
    "from sklearn.metrics.pairwise import cosine_similarity\n",
    "\n",
    "def predict_test_case(test_id):\n",
    "    \"\"\"\n",
    "    For a given test_id in the dataset, return its:\n",
    "    - 3 most similar test cases\n",
    "    - predicted duration (regressor)\n",
    "    - predicted pass probability (classifier)\n",
    "    \"\"\"\n",
    "    # Find the row\n",
    "    row = df[df[\"test_id\"] == test_id]\n",
    "    if row.empty:\n",
    "        print(f\"Test case '{test_id}' not found.\")\n",
    "        return\n",
    "\n",
    "    # Extract feature vector\n",
    "    row_index = row.index[0]\n",
    "    input_vec = X_features[row_index].reshape(1, -1)\n",
    "\n",
    "    # Find 3 most similar test cases (excluding itself)\n",
    "    similarities = cosine_similarity(input_vec, X_features)[0]\n",
    "    top_indices = similarities.argsort()[-4:-1][::-1]\n",
    "    similar_ids = df.iloc[top_indices][\"test_id\"].tolist()\n",
    "\n",
    "    # Predict duration and pass probability\n",
    "    pred_duration = reg.predict(input_vec)[0]\n",
    "    pred_pass_prob = clf.predict_proba(input_vec)[0][1]\n",
    "\n",
    "    # Output\n",
    "    print(f\"\\n🧪 Test Case ID: {test_id}\")\n",
    "    print(f\"⏱ Predicted Duration: {pred_duration:.2f} seconds\")\n",
    "    print(f\"✅ Predicted PASS Probability: {pred_pass_prob*100:.1f}%\")\n",
    "    print(\"🔍 Most Similar Test Cases:\")\n",
    "    for i, sid in enumerate(similar_ids, 1):\n",
    "        print(f\"   {i}. {sid}\")\n",
    "\n",
    "# === Example usage ===\n",
    "if __name__ == \"__main__\":\n",
    "    predict_test_case(\"TestCase001_LBConfiguration_aug\")\n"
   ]
  },
  {
   "cell_type": "code",
   "execution_count": null,
   "id": "36b75cba-7885-4b0c-ab56-1b52822e9108",
   "metadata": {},
   "outputs": [],
   "source": []
  }
 ],
 "metadata": {
  "kernelspec": {
   "display_name": "Python 3 (ipykernel)",
   "language": "python",
   "name": "python3"
  },
  "language_info": {
   "codemirror_mode": {
    "name": "ipython",
    "version": 3
   },
   "file_extension": ".py",
   "mimetype": "text/x-python",
   "name": "python",
   "nbconvert_exporter": "python",
   "pygments_lexer": "ipython3",
   "version": "3.11.3"
  }
 },
 "nbformat": 4,
 "nbformat_minor": 5
}
