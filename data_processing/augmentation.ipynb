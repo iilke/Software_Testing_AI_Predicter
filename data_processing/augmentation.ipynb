{
 "cells": [
  {
   "cell_type": "code",
   "execution_count": 1,
   "id": "67bafb00-7953-4487-9f7e-822187038afb",
   "metadata": {},
   "outputs": [
    {
     "name": "stdout",
     "output_type": "stream",
     "text": [
      "✅ Augmented dataset saved as parsed_test_cases_augmented.csv\n"
     ]
    }
   ],
   "source": [
    "import random\n",
    "import pandas as pd\n",
    "from sklearn.utils import shuffle\n",
    "\n",
    "# Load the original parsed dataset\n",
    "df = pd.read_csv(\"parsed_test_cases.csv\")\n",
    "df.dropna(subset=[\"step_keywords\", \"num_steps\", \"duration\", \"result\"], inplace=True)\n",
    "\n",
    "# Split step keywords into tokens\n",
    "df[\"step_tokens\"] = df[\"step_keywords\"].apply(lambda x: x.split())\n",
    "\n",
    "# Define common extra keywords to use\n",
    "common_keywords = [\"Set\", \"Send\", \"Reset\", \"Verify\", \"Check\", \"Power\", \"Switch\", \"Read\", \"Write\"]\n",
    "\n",
    "augmented_rows = []\n",
    "\n",
    "# How many synthetic samples per original?\n",
    "AUGMENT_PER_SAMPLE = 3\n",
    "\n",
    "for _, row in df.iterrows():\n",
    "    for _ in range(AUGMENT_PER_SAMPLE):\n",
    "        base_tokens = row[\"step_tokens\"].copy()\n",
    "        num_steps = row[\"num_steps\"]\n",
    "\n",
    "        # Randomly shuffle or modify\n",
    "        random.shuffle(base_tokens)\n",
    "        if random.random() < 0.5:\n",
    "            base_tokens.append(random.choice(common_keywords))\n",
    "        if len(base_tokens) > 1 and random.random() < 0.3:\n",
    "            base_tokens.pop(random.randint(0, len(base_tokens) - 1))\n",
    "\n",
    "        # Truncate or pad to match num_steps\n",
    "        while len(base_tokens) < num_steps:\n",
    "            base_tokens.append(random.choice(common_keywords))\n",
    "        while len(base_tokens) > num_steps:\n",
    "            base_tokens.pop()\n",
    "\n",
    "        # Create augmented row\n",
    "        new_row = {\n",
    "            \"test_id\": row[\"test_id\"] + \"_aug\",\n",
    "            \"num_steps\": num_steps,\n",
    "            \"step_keywords\": \" \".join(base_tokens),\n",
    "            \"duration\": row[\"duration\"] * random.uniform(0.9, 1.1),  # slight variation\n",
    "            \"result\": row[\"result\"]\n",
    "        }\n",
    "        augmented_rows.append(new_row)\n",
    "\n",
    "# Combine with original\n",
    "df_aug = pd.DataFrame(augmented_rows)\n",
    "df_combined = pd.concat([df, df_aug], ignore_index=True)\n",
    "df_combined = shuffle(df_combined).reset_index(drop=True)\n",
    "\n",
    "# Save\n",
    "df_combined.to_csv(\"parsed_test_cases_augmented.csv\", index=False)\n",
    "print(\"✅ Augmented dataset saved as parsed_test_cases_augmented.csv\")\n"
   ]
  },
  {
   "cell_type": "code",
   "execution_count": null,
   "id": "09e83a0d-db9f-4fcc-93d4-47ba00ecd5bb",
   "metadata": {},
   "outputs": [],
   "source": []
  }
 ],
 "metadata": {
  "kernelspec": {
   "display_name": "Python 3 (ipykernel)",
   "language": "python",
   "name": "python3"
  },
  "language_info": {
   "codemirror_mode": {
    "name": "ipython",
    "version": 3
   },
   "file_extension": ".py",
   "mimetype": "text/x-python",
   "name": "python",
   "nbconvert_exporter": "python",
   "pygments_lexer": "ipython3",
   "version": "3.11.3"
  }
 },
 "nbformat": 4,
 "nbformat_minor": 5
}
